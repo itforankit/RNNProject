{
 "cells": [
  {
   "cell_type": "code",
   "execution_count": 6,
   "metadata": {},
   "outputs": [],
   "source": [
    "# Step 1: Import Libraries and Load the Model\n",
    "import numpy as np\n",
    "import tensorflow as tf\n",
    "from tensorflow.keras.datasets import imdb\n",
    "from tensorflow.keras.preprocessing import sequence\n",
    "from tensorflow.keras.models import load_model"
   ]
  },
  {
   "cell_type": "code",
   "execution_count": 7,
   "metadata": {},
   "outputs": [],
   "source": [
    "\n",
    "# Load the IMDB dataset word index\n",
    "word_index = imdb.get_word_index()\n",
    "reverse_word_index = {value: key for key, value in word_index.items()}"
   ]
  },
  {
   "cell_type": "code",
   "execution_count": 8,
   "metadata": {},
   "outputs": [
    {
     "name": "stderr",
     "output_type": "stream",
     "text": [
      "WARNING:absl:Compiled the loaded model, but the compiled metrics have yet to be built. `model.compile_metrics` will be empty until you train or evaluate the model.\n"
     ]
    },
    {
     "data": {
      "text/html": [
       "<pre style=\"white-space:pre;overflow-x:auto;line-height:normal;font-family:Menlo,'DejaVu Sans Mono',consolas,'Courier New',monospace\"><span style=\"font-weight: bold\">Model: \"sequential_1\"</span>\n",
       "</pre>\n"
      ],
      "text/plain": [
       "\u001b[1mModel: \"sequential_1\"\u001b[0m\n"
      ]
     },
     "metadata": {},
     "output_type": "display_data"
    },
    {
     "data": {
      "text/html": [
       "<pre style=\"white-space:pre;overflow-x:auto;line-height:normal;font-family:Menlo,'DejaVu Sans Mono',consolas,'Courier New',monospace\">┏━━━━━━━━━━━━━━━━━━━━━━━━━━━━━━━━━┳━━━━━━━━━━━━━━━━━━━━━━━━┳━━━━━━━━━━━━━━━┓\n",
       "┃<span style=\"font-weight: bold\"> Layer (type)                    </span>┃<span style=\"font-weight: bold\"> Output Shape           </span>┃<span style=\"font-weight: bold\">       Param # </span>┃\n",
       "┡━━━━━━━━━━━━━━━━━━━━━━━━━━━━━━━━━╇━━━━━━━━━━━━━━━━━━━━━━━━╇━━━━━━━━━━━━━━━┩\n",
       "│ embedding_1 (<span style=\"color: #0087ff; text-decoration-color: #0087ff\">Embedding</span>)         │ (<span style=\"color: #00af00; text-decoration-color: #00af00\">32</span>, <span style=\"color: #00af00; text-decoration-color: #00af00\">500</span>, <span style=\"color: #00af00; text-decoration-color: #00af00\">128</span>)         │     <span style=\"color: #00af00; text-decoration-color: #00af00\">1,280,000</span> │\n",
       "├─────────────────────────────────┼────────────────────────┼───────────────┤\n",
       "│ simple_rnn_1 (<span style=\"color: #0087ff; text-decoration-color: #0087ff\">SimpleRNN</span>)        │ (<span style=\"color: #00af00; text-decoration-color: #00af00\">32</span>, <span style=\"color: #00af00; text-decoration-color: #00af00\">128</span>)              │        <span style=\"color: #00af00; text-decoration-color: #00af00\">32,896</span> │\n",
       "├─────────────────────────────────┼────────────────────────┼───────────────┤\n",
       "│ dense_1 (<span style=\"color: #0087ff; text-decoration-color: #0087ff\">Dense</span>)                 │ (<span style=\"color: #00af00; text-decoration-color: #00af00\">32</span>, <span style=\"color: #00af00; text-decoration-color: #00af00\">1</span>)                │           <span style=\"color: #00af00; text-decoration-color: #00af00\">129</span> │\n",
       "└─────────────────────────────────┴────────────────────────┴───────────────┘\n",
       "</pre>\n"
      ],
      "text/plain": [
       "┏━━━━━━━━━━━━━━━━━━━━━━━━━━━━━━━━━┳━━━━━━━━━━━━━━━━━━━━━━━━┳━━━━━━━━━━━━━━━┓\n",
       "┃\u001b[1m \u001b[0m\u001b[1mLayer (type)                   \u001b[0m\u001b[1m \u001b[0m┃\u001b[1m \u001b[0m\u001b[1mOutput Shape          \u001b[0m\u001b[1m \u001b[0m┃\u001b[1m \u001b[0m\u001b[1m      Param #\u001b[0m\u001b[1m \u001b[0m┃\n",
       "┡━━━━━━━━━━━━━━━━━━━━━━━━━━━━━━━━━╇━━━━━━━━━━━━━━━━━━━━━━━━╇━━━━━━━━━━━━━━━┩\n",
       "│ embedding_1 (\u001b[38;5;33mEmbedding\u001b[0m)         │ (\u001b[38;5;34m32\u001b[0m, \u001b[38;5;34m500\u001b[0m, \u001b[38;5;34m128\u001b[0m)         │     \u001b[38;5;34m1,280,000\u001b[0m │\n",
       "├─────────────────────────────────┼────────────────────────┼───────────────┤\n",
       "│ simple_rnn_1 (\u001b[38;5;33mSimpleRNN\u001b[0m)        │ (\u001b[38;5;34m32\u001b[0m, \u001b[38;5;34m128\u001b[0m)              │        \u001b[38;5;34m32,896\u001b[0m │\n",
       "├─────────────────────────────────┼────────────────────────┼───────────────┤\n",
       "│ dense_1 (\u001b[38;5;33mDense\u001b[0m)                 │ (\u001b[38;5;34m32\u001b[0m, \u001b[38;5;34m1\u001b[0m)                │           \u001b[38;5;34m129\u001b[0m │\n",
       "└─────────────────────────────────┴────────────────────────┴───────────────┘\n"
      ]
     },
     "metadata": {},
     "output_type": "display_data"
    },
    {
     "data": {
      "text/html": [
       "<pre style=\"white-space:pre;overflow-x:auto;line-height:normal;font-family:Menlo,'DejaVu Sans Mono',consolas,'Courier New',monospace\"><span style=\"font-weight: bold\"> Total params: </span><span style=\"color: #00af00; text-decoration-color: #00af00\">1,313,027</span> (5.01 MB)\n",
       "</pre>\n"
      ],
      "text/plain": [
       "\u001b[1m Total params: \u001b[0m\u001b[38;5;34m1,313,027\u001b[0m (5.01 MB)\n"
      ]
     },
     "metadata": {},
     "output_type": "display_data"
    },
    {
     "data": {
      "text/html": [
       "<pre style=\"white-space:pre;overflow-x:auto;line-height:normal;font-family:Menlo,'DejaVu Sans Mono',consolas,'Courier New',monospace\"><span style=\"font-weight: bold\"> Trainable params: </span><span style=\"color: #00af00; text-decoration-color: #00af00\">1,313,025</span> (5.01 MB)\n",
       "</pre>\n"
      ],
      "text/plain": [
       "\u001b[1m Trainable params: \u001b[0m\u001b[38;5;34m1,313,025\u001b[0m (5.01 MB)\n"
      ]
     },
     "metadata": {},
     "output_type": "display_data"
    },
    {
     "data": {
      "text/html": [
       "<pre style=\"white-space:pre;overflow-x:auto;line-height:normal;font-family:Menlo,'DejaVu Sans Mono',consolas,'Courier New',monospace\"><span style=\"font-weight: bold\"> Non-trainable params: </span><span style=\"color: #00af00; text-decoration-color: #00af00\">0</span> (0.00 B)\n",
       "</pre>\n"
      ],
      "text/plain": [
       "\u001b[1m Non-trainable params: \u001b[0m\u001b[38;5;34m0\u001b[0m (0.00 B)\n"
      ]
     },
     "metadata": {},
     "output_type": "display_data"
    },
    {
     "data": {
      "text/html": [
       "<pre style=\"white-space:pre;overflow-x:auto;line-height:normal;font-family:Menlo,'DejaVu Sans Mono',consolas,'Courier New',monospace\"><span style=\"font-weight: bold\"> Optimizer params: </span><span style=\"color: #00af00; text-decoration-color: #00af00\">2</span> (12.00 B)\n",
       "</pre>\n"
      ],
      "text/plain": [
       "\u001b[1m Optimizer params: \u001b[0m\u001b[38;5;34m2\u001b[0m (12.00 B)\n"
      ]
     },
     "metadata": {},
     "output_type": "display_data"
    }
   ],
   "source": [
    "# Load the pre-trained model with ReLU activation\n",
    "model = load_model('simple_rnn_imdb1.h5')\n",
    "model.summary()"
   ]
  },
  {
   "cell_type": "code",
   "execution_count": 9,
   "metadata": {},
   "outputs": [
    {
     "data": {
      "text/plain": [
       "[array([[-0.02346488, -0.01556212, -0.0418021 , ...,  0.09014405,\n",
       "         -0.05757081, -0.03311392],\n",
       "        [-0.02031148,  0.01269392,  0.00773898, ..., -0.03580919,\n",
       "         -0.00269933, -0.012676  ],\n",
       "        [-0.03639973, -0.04490116, -0.01705054, ..., -0.03475783,\n",
       "         -0.04313166,  0.00632026],\n",
       "        ...,\n",
       "        [-0.03375997,  0.02571538, -0.0940536 , ..., -0.09183875,\n",
       "          0.01302283,  0.10077063],\n",
       "        [-0.0391471 , -0.01652865,  0.05710364, ...,  0.03124378,\n",
       "         -0.03491486, -0.04365989],\n",
       "        [ 0.03490097,  0.06272112, -0.03759127, ..., -0.04592582,\n",
       "          0.11402385,  0.04107426]], dtype=float32),\n",
       " array([[ 6.5821121e-05,  1.4044492e-01, -2.8028866e-02, ...,\n",
       "         -1.1012231e-01,  1.6414901e-02, -8.7834746e-02],\n",
       "        [ 8.6498283e-02,  1.8034518e-01, -7.3741496e-02, ...,\n",
       "         -1.3563693e-01,  1.2804004e-02, -4.4075679e-02],\n",
       "        [ 1.2813579e-01, -5.7148017e-02, -9.0336137e-02, ...,\n",
       "         -7.9725616e-02,  2.2047987e-02, -1.3379462e-01],\n",
       "        ...,\n",
       "        [ 1.1868245e-01,  7.5494230e-02, -1.1189552e-01, ...,\n",
       "         -8.5650273e-02,  5.0953873e-02,  1.9461010e-02],\n",
       "        [-1.9509355e-03,  1.6456340e-01, -3.1022651e-02, ...,\n",
       "          5.4346420e-02,  1.0024474e-01,  9.2086261e-03],\n",
       "        [-1.6208546e-02, -8.1150688e-02,  1.2666300e-02, ...,\n",
       "          2.8523423e-02,  1.0129840e-01,  1.6806906e-02]], dtype=float32),\n",
       " array([[ 0.01036735,  0.00104384, -0.12265535, ..., -0.05467704,\n",
       "         -0.09777708, -0.08797507],\n",
       "        [ 0.12111794,  0.19268419,  0.11551205, ..., -0.00373489,\n",
       "         -0.03418186, -0.02926085],\n",
       "        [-0.06195166,  0.07174329, -0.05104758, ..., -0.03709854,\n",
       "          0.07739073,  0.2210571 ],\n",
       "        ...,\n",
       "        [ 0.06514146, -0.11286496, -0.00621358, ...,  0.00355647,\n",
       "          0.0270104 ,  0.01996025],\n",
       "        [ 0.06298755, -0.05550861,  0.09942374, ...,  0.04135372,\n",
       "         -0.00704105, -0.2291754 ],\n",
       "        [ 0.14632864,  0.15969159,  0.07244634, ..., -0.00216835,\n",
       "         -0.0125963 ,  0.02575598]], dtype=float32),\n",
       " array([-1.63920857e-02, -6.91473065e-03, -1.74299460e-02,  7.18148658e-03,\n",
       "        -2.38259844e-02, -9.09968093e-03,  2.10407171e-02, -3.30866617e-03,\n",
       "        -1.02212196e-02, -2.02723197e-03,  1.46526303e-02,  1.00433165e-02,\n",
       "        -2.48182546e-02, -4.37135983e-04,  3.04119545e-04, -1.03120459e-02,\n",
       "        -2.98021408e-03, -1.69083234e-02, -9.56080202e-03, -5.18607628e-03,\n",
       "         2.01704465e-02,  4.88235569e-03,  1.17212432e-04,  2.42172610e-02,\n",
       "        -1.78266056e-02,  1.76230613e-02, -3.42601128e-02, -7.52139511e-03,\n",
       "         2.23364756e-02,  1.33490143e-02, -2.07895748e-02,  4.87690093e-03,\n",
       "        -1.47833517e-02, -3.72569612e-03, -5.68731176e-03, -1.29699381e-02,\n",
       "         2.61252280e-02, -2.80311443e-02, -2.43848562e-02, -2.70176027e-03,\n",
       "        -5.21598337e-03,  1.68781485e-02,  1.72745425e-03,  8.92417692e-03,\n",
       "         1.84553694e-02, -4.62521287e-03, -4.49192617e-03,  9.49273910e-03,\n",
       "        -3.39081585e-02, -6.21415442e-03, -1.26013125e-03, -1.47521468e-02,\n",
       "        -3.43981851e-03, -1.77200651e-03, -3.09646525e-03, -1.09798685e-02,\n",
       "         1.33745307e-02,  8.53918260e-04,  1.26549359e-02,  1.32219959e-02,\n",
       "        -3.64132633e-04, -2.15090867e-02, -2.07790546e-02, -1.61820985e-02,\n",
       "        -2.87104417e-02,  1.80262253e-02, -1.11351032e-02, -9.11276229e-03,\n",
       "         1.42043801e-02,  2.42457092e-02, -7.84032419e-03,  1.91925298e-02,\n",
       "         6.24715351e-03,  3.91976954e-03,  1.10909045e-02,  1.09694037e-03,\n",
       "        -1.72671508e-02, -1.45323519e-02,  2.39843111e-02, -1.26994438e-02,\n",
       "        -3.04634888e-02, -3.10845170e-02,  2.98421606e-02,  2.20797770e-03,\n",
       "         1.70273930e-02,  1.04085822e-02, -2.06694808e-02, -9.86477174e-03,\n",
       "        -2.04721428e-02, -1.41679421e-02, -1.38490787e-02, -2.55049076e-02,\n",
       "         2.54868995e-02, -8.21335427e-03, -1.00049004e-02,  8.86574667e-03,\n",
       "        -2.87874718e-03,  8.32421612e-03, -8.32090341e-03,  1.84644423e-02,\n",
       "        -2.67002247e-02, -4.36793920e-03,  7.81342480e-03,  2.10269261e-02,\n",
       "        -2.00540405e-02, -2.24836469e-02,  1.70313254e-01, -4.85533290e-03,\n",
       "        -2.18321010e-02, -1.24153635e-02,  5.35514578e-03, -1.08792391e-02,\n",
       "        -2.28308365e-02, -9.70350858e-03,  5.16082160e-03, -1.16562583e-02,\n",
       "        -5.96458185e-03,  2.95195952e-02,  5.81823871e-04,  1.02661075e-02,\n",
       "         3.88294533e-02, -1.96636561e-03, -1.04168002e-02, -3.29066887e-02,\n",
       "         3.99712910e-04,  9.82035534e-04, -1.00973006e-02, -4.55448125e-03],\n",
       "       dtype=float32),\n",
       " array([[ 1.42362595e-01],\n",
       "        [ 1.50234103e-01],\n",
       "        [-1.49587408e-01],\n",
       "        [ 6.05908692e-01],\n",
       "        [ 2.06666198e-02],\n",
       "        [ 1.93336248e-01],\n",
       "        [-2.16021597e-01],\n",
       "        [ 2.50279576e-01],\n",
       "        [-1.99187011e-01],\n",
       "        [ 1.69546694e-01],\n",
       "        [-1.74676910e-01],\n",
       "        [-9.11183879e-02],\n",
       "        [-6.00331202e-02],\n",
       "        [-2.22378492e-01],\n",
       "        [-2.10706756e-01],\n",
       "        [-7.40727633e-02],\n",
       "        [ 4.24315184e-02],\n",
       "        [-1.88277185e-01],\n",
       "        [ 2.26979166e-01],\n",
       "        [-1.56486362e-01],\n",
       "        [-1.76556915e-01],\n",
       "        [ 2.49184161e-01],\n",
       "        [ 5.07295951e-02],\n",
       "        [-1.49303570e-01],\n",
       "        [-1.65282398e-01],\n",
       "        [ 3.70638549e-01],\n",
       "        [ 7.11337030e-02],\n",
       "        [-5.02100177e-02],\n",
       "        [-8.01440552e-02],\n",
       "        [ 1.54321566e-01],\n",
       "        [ 1.30659670e-01],\n",
       "        [ 2.09245414e-01],\n",
       "        [ 5.65305818e-03],\n",
       "        [-5.55889606e-02],\n",
       "        [-5.31586967e-02],\n",
       "        [ 1.97192356e-01],\n",
       "        [-2.38180742e-01],\n",
       "        [-6.48779869e-02],\n",
       "        [-1.98562205e-01],\n",
       "        [ 1.89342514e-01],\n",
       "        [-2.51444448e-02],\n",
       "        [-8.69343802e-02],\n",
       "        [ 6.95184991e-02],\n",
       "        [ 1.42247185e-01],\n",
       "        [-1.87215939e-01],\n",
       "        [-2.47215763e-01],\n",
       "        [ 1.91662952e-01],\n",
       "        [ 7.80455291e-01],\n",
       "        [ 1.44485675e-03],\n",
       "        [-3.25783389e-03],\n",
       "        [ 2.30117351e-01],\n",
       "        [-6.96606189e-02],\n",
       "        [ 2.00683638e-01],\n",
       "        [-2.71386802e-02],\n",
       "        [-4.60096309e-03],\n",
       "        [-1.20354183e-02],\n",
       "        [-7.64610693e-02],\n",
       "        [-1.44716993e-01],\n",
       "        [-9.04445872e-02],\n",
       "        [-2.23497465e-01],\n",
       "        [ 1.82077050e-01],\n",
       "        [ 1.21039025e-01],\n",
       "        [-6.19439855e-02],\n",
       "        [ 1.68087587e-01],\n",
       "        [ 3.18595121e-04],\n",
       "        [ 4.05168496e-02],\n",
       "        [ 1.88754380e-01],\n",
       "        [ 2.14712575e-01],\n",
       "        [ 2.79239956e-02],\n",
       "        [-4.77855001e-03],\n",
       "        [ 1.48710415e-01],\n",
       "        [-8.56561884e-02],\n",
       "        [ 5.92853129e-02],\n",
       "        [-1.06919415e-01],\n",
       "        [ 1.73033208e-01],\n",
       "        [-6.54484406e-02],\n",
       "        [ 5.66323893e-03],\n",
       "        [ 1.32730201e-01],\n",
       "        [-1.83641419e-01],\n",
       "        [ 1.46268373e-02],\n",
       "        [ 2.08073296e-02],\n",
       "        [ 1.87494144e-01],\n",
       "        [-1.42461628e-01],\n",
       "        [ 1.94668278e-01],\n",
       "        [ 9.84071866e-02],\n",
       "        [-1.68137833e-01],\n",
       "        [ 1.40381843e-01],\n",
       "        [-1.55923054e-01],\n",
       "        [ 1.71760306e-01],\n",
       "        [-4.02937718e-02],\n",
       "        [ 5.44474602e-01],\n",
       "        [-1.48081034e-01],\n",
       "        [-1.10832095e-01],\n",
       "        [-5.35877869e-02],\n",
       "        [ 1.99984536e-01],\n",
       "        [-5.49418405e-02],\n",
       "        [ 1.35032848e-01],\n",
       "        [-1.22725159e-01],\n",
       "        [ 1.47407707e-02],\n",
       "        [ 1.25275701e-01],\n",
       "        [-1.30863294e-01],\n",
       "        [ 4.99365740e-02],\n",
       "        [ 3.41643021e-02],\n",
       "        [ 2.35628307e-01],\n",
       "        [-2.09040329e-01],\n",
       "        [ 1.06818810e-01],\n",
       "        [ 3.59858543e-01],\n",
       "        [ 1.15335539e-01],\n",
       "        [ 4.50657368e-01],\n",
       "        [ 8.32087174e-03],\n",
       "        [-1.28020212e-01],\n",
       "        [ 3.09335198e-02],\n",
       "        [-2.12577686e-01],\n",
       "        [ 9.97026488e-02],\n",
       "        [ 1.65165029e-02],\n",
       "        [ 1.31900027e-01],\n",
       "        [-9.50635150e-02],\n",
       "        [-2.44493768e-01],\n",
       "        [-1.05791092e-01],\n",
       "        [ 1.43084049e-01],\n",
       "        [-1.96547553e-01],\n",
       "        [ 2.17179600e-02],\n",
       "        [ 9.32667553e-02],\n",
       "        [-5.52821197e-02],\n",
       "        [-3.57754767e-01],\n",
       "        [ 4.69517678e-01],\n",
       "        [ 2.33248714e-03],\n",
       "        [-8.84923935e-02]], dtype=float32),\n",
       " array([0.22403441], dtype=float32)]"
      ]
     },
     "execution_count": 9,
     "metadata": {},
     "output_type": "execute_result"
    }
   ],
   "source": [
    "model.get_weights()"
   ]
  },
  {
   "cell_type": "code",
   "execution_count": 10,
   "metadata": {},
   "outputs": [],
   "source": [
    "# Step 2: Helper Functions\n",
    "# Function to decode reviews\n",
    "def decode_review(encoded_review):\n",
    "    return ' '.join([reverse_word_index.get(i - 3, '?') for i in encoded_review])\n",
    "\n",
    "# Function to preprocess user input\n",
    "def preprocess_text(text):\n",
    "    words = text.lower().split()\n",
    "    encoded_review = [word_index.get(word, 2) + 3 for word in words]\n",
    "    padded_review = sequence.pad_sequences([encoded_review], maxlen=500)\n",
    "    return padded_review"
   ]
  },
  {
   "cell_type": "code",
   "execution_count": 11,
   "metadata": {},
   "outputs": [],
   "source": [
    "### Prediction  function\n",
    "\n",
    "def predict_sentiment(review):\n",
    "    preprocessed_input=preprocess_text(review)\n",
    "\n",
    "    prediction=model.predict(preprocessed_input)\n",
    "\n",
    "    sentiment = 'Positive' if prediction[0][0] > 0.5 else 'Negative'\n",
    "    \n",
    "    return sentiment, prediction[0][0]\n",
    "\n"
   ]
  },
  {
   "cell_type": "code",
   "execution_count": 14,
   "metadata": {},
   "outputs": [
    {
     "name": "stdout",
     "output_type": "stream",
     "text": [
      "\u001b[1m1/1\u001b[0m \u001b[32m━━━━━━━━━━━━━━━━━━━━\u001b[0m\u001b[37m\u001b[0m \u001b[1m0s\u001b[0m 54ms/step\n",
      "Review: This movie was not too good! The acting was ok and the plot was thrilling.\n",
      "Sentiment: Negative\n",
      "Prediction Score: 0.26411864161491394\n"
     ]
    }
   ],
   "source": [
    "# Step 4: User Input and Prediction\n",
    "# Example review for prediction\n",
    "example_review = \"This movie was fantastic! The acting was great and the plot was thrilling.\"\n",
    "\n",
    "sentiment,score=predict_sentiment(example_review)\n",
    "\n",
    "print(f'Review: {example_review}')\n",
    "print(f'Sentiment: {sentiment}')\n",
    "print(f'Prediction Score: {score}')"
   ]
  },
  {
   "cell_type": "code",
   "execution_count": null,
   "metadata": {},
   "outputs": [],
   "source": []
  },
  {
   "cell_type": "code",
   "execution_count": null,
   "metadata": {},
   "outputs": [],
   "source": []
  },
  {
   "cell_type": "code",
   "execution_count": null,
   "metadata": {},
   "outputs": [],
   "source": []
  },
  {
   "cell_type": "code",
   "execution_count": null,
   "metadata": {},
   "outputs": [],
   "source": []
  }
 ],
 "metadata": {
  "kernelspec": {
   "display_name": "venv",
   "language": "python",
   "name": "python3"
  },
  "language_info": {
   "codemirror_mode": {
    "name": "ipython",
    "version": 3
   },
   "file_extension": ".py",
   "mimetype": "text/x-python",
   "name": "python",
   "nbconvert_exporter": "python",
   "pygments_lexer": "ipython3",
   "version": "3.12.0"
  }
 },
 "nbformat": 4,
 "nbformat_minor": 2
}
